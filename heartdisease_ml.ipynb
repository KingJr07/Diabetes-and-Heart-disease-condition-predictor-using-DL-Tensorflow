{
 "cells": [
  {
   "cell_type": "code",
   "execution_count": 1,
   "id": "b39bf485-d5c9-43b4-9706-6e5dc3f2689b",
   "metadata": {},
   "outputs": [],
   "source": [
    "import pandas as pd\n",
    "from sklearn.model_selection import train_test_split\n",
    "from sklearn.linear_model import LogisticRegression\n",
    "from sklearn.preprocessing import LabelEncoder\n",
    "from sklearn.metrics import confusion_matrix\n",
    "from sklearn.metrics import classification_report\n"
   ]
  },
  {
   "cell_type": "code",
   "execution_count": 2,
   "id": "afbcd164-077d-4afa-9f38-023a20e74713",
   "metadata": {},
   "outputs": [],
   "source": [
    "# Load the CSV file\n",
    "df=pd.read_csv(r'heart.csv')\n"
   ]
  },
  {
   "cell_type": "code",
   "execution_count": 9,
   "id": "0c3bbc45-c032-486d-94df-b40442189e4f",
   "metadata": {},
   "outputs": [
    {
     "name": "stdout",
     "output_type": "stream",
     "text": [
      "Accuracy: 0.8608695652173913\n",
      "Confusion matrix:\n",
      " [[ 91  17]\n",
      " [ 15 107]]\n",
      "Classification report:\n",
      "               precision    recall  f1-score   support\n",
      "\n",
      "           0       0.86      0.84      0.85       108\n",
      "           1       0.86      0.88      0.87       122\n",
      "\n",
      "    accuracy                           0.86       230\n",
      "   macro avg       0.86      0.86      0.86       230\n",
      "weighted avg       0.86      0.86      0.86       230\n",
      "\n"
     ]
    },
    {
     "name": "stderr",
     "output_type": "stream",
     "text": [
      "D:\\ImageClassification\\imageclassification\\lib\\site-packages\\sklearn\\linear_model\\_logistic.py:458: ConvergenceWarning: lbfgs failed to converge (status=1):\n",
      "STOP: TOTAL NO. of ITERATIONS REACHED LIMIT.\n",
      "\n",
      "Increase the number of iterations (max_iter) or scale the data as shown in:\n",
      "    https://scikit-learn.org/stable/modules/preprocessing.html\n",
      "Please also refer to the documentation for alternative solver options:\n",
      "    https://scikit-learn.org/stable/modules/linear_model.html#logistic-regression\n",
      "  n_iter_i = _check_optimize_result(\n"
     ]
    }
   ],
   "source": [
    "\n",
    "\n",
    "# Identify the string columns\n",
    "string_columns = df.select_dtypes(include=['object']).columns\n",
    "\n",
    "# Create a LabelEncoder object for each string column\n",
    "## This line caused the error:\n",
    "#label_encoders[column] = LabelEncoder()\n",
    "\n",
    "## Replace the above line with the following two lines:\n",
    "label_encoders = {}\n",
    "for column in string_columns:\n",
    "    label_encoders[column] = LabelEncoder()\n",
    "\n",
    "# Encode the string values in each column\n",
    "for column in string_columns:\n",
    "    df[column] = label_encoders[column].fit_transform(df[column])\n",
    "\n",
    "# Split the data into features and target\n",
    "#X = df.drop('Churn', axis=1)\n",
    "\n",
    "#X=df.drop('customerID', axis=1)\n",
    "X = df.drop(columns=['HeartDisease'])\n",
    "\n",
    "y = df['HeartDisease']\n",
    "\n",
    "\n",
    "# Split the data into training and test sets\n",
    "X_train, X_test, y_train, y_test = train_test_split(X, y, test_size=0.25)\n",
    "\n",
    "\n",
    "\n",
    "# Create the logistic regression model\n",
    "model = LogisticRegression(C=0.1)\n",
    "\"\"\"\n",
    "This code uses a regularization parameter of C=0.1. This means that the model will be penalized for having large coefficients.\n",
    "\"\"\"\n",
    "# Fit the model to the encoded data\n",
    "model.fit(X_train, y_train)\n",
    "\n",
    "# Make predictions on the test data\n",
    "y_pred = model.predict(X_test)\n",
    "\n",
    "# Calculate the accuracy of the model\n",
    "accuracy = model.score(X_test, y_test)\n",
    "\n",
    "# Calculate the confusion matrix\n",
    "# Calculate the confusion matrix\n",
    "confusion_matrix = confusion_matrix(y_test, y_pred)\n",
    "\n",
    "\n",
    "# Calculate the classification report\n",
    "classification_report = classification_report(y_test, y_pred)\n",
    "\n",
    "# Print the results\n",
    "print('Accuracy:', accuracy)\n",
    "print('Confusion matrix:\\n', confusion_matrix)\n",
    "print('Classification report:\\n', classification_report)\n"
   ]
  },
  {
   "cell_type": "code",
   "execution_count": 10,
   "id": "7cc34669-7f73-4e06-8ba7-a83d7ebba208",
   "metadata": {},
   "outputs": [
    {
     "data": {
      "image/png": "[encoded data removed]",
      "text/plain": [
       "<Figure size 640x480 with 2 Axes>"
      ]
     },
     "metadata": {},
     "output_type": "display_data"
    }
   ],
   "source": [
    "from sklearn.metrics import confusion_matrix\n",
    "import matplotlib.pyplot as plt\n",
    "\n",
    "# Calculate the confusion matrix\n",
    "cm = confusion_matrix(y_test, y_pred)\n",
    "\n",
    "# Create a confusion matrix plot\n",
    "plt.figure()\n",
    "plt.imshow(cm, interpolation='nearest', cmap='Blues')\n",
    "\n",
    "# Add labels to the plot\n",
    "plt.xticks(range(len(cm)), labels=df.HeartDisease.unique(), rotation=45)\n",
    "plt.yticks(range(len(cm)), labels=df.HeartDisease.unique())\n",
    "\n",
    "# Add a title and axis labels\n",
    "plt.title('Confusion Matrix')\n",
    "plt.xlabel('Predicted')\n",
    "plt.ylabel('Actual')\n",
    "\n",
    "# Add a colorbar\n",
    "plt.colorbar()\n",
    "\n",
    "# Show the plot\n",
    "plt.show()\n"
   ]
  },
  {
   "cell_type": "code",
   "execution_count": null,
   "id": "1d7fccb4-3848-4857-9982-430bbde23b69",
   "metadata": {},
   "outputs": [],
   "source": []
  }
 ],
 "metadata": {
  "kernelspec": {
   "display_name": "imageclassification",
   "language": "python",
   "name": "imageclassification"
  },
  "language_info": {
   "codemirror_mode": {
    "name": "ipython",
    "version": 3
   },
   "file_extension": ".py",
   "mimetype": "text/x-python",
   "name": "python",
   "nbconvert_exporter": "python",
   "pygments_lexer": "ipython3",
   "version": "3.9.13"
  }
 },
 "nbformat": 4,
 "nbformat_minor": 5
}
